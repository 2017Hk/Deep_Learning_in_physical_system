{
  "nbformat": 4,
  "nbformat_minor": 0,
  "metadata": {
    "colab": {
      "provenance": [],
      "authorship_tag": "ABX9TyNdTetNepr20RFoGiCRZG2d",
      "include_colab_link": true
    },
    "kernelspec": {
      "name": "python3",
      "display_name": "Python 3"
    },
    "language_info": {
      "name": "python"
    }
  },
  "cells": [
    {
      "cell_type": "markdown",
      "metadata": {
        "id": "view-in-github",
        "colab_type": "text"
      },
      "source": [
        "<a href=\"https://colab.research.google.com/github/2017Hk/Deep_Learning_in_physical_system/blob/main/DL_project_data_generation.ipynb\" target=\"_parent\"><img src=\"https://colab.research.google.com/assets/colab-badge.svg\" alt=\"Open In Colab\"/></a>"
      ]
    },
    {
      "cell_type": "code",
      "execution_count": 1,
      "metadata": {
        "colab": {
          "base_uri": "https://localhost:8080/"
        },
        "id": "dIT9tg5KW3sn",
        "outputId": "2e4197a3-676b-4fda-bcb3-9bca60b9c466"
      },
      "outputs": [
        {
          "output_type": "stream",
          "name": "stdout",
          "text": [
            "Reading package lists... Done\n",
            "Building dependency tree... Done\n",
            "Reading state information... Done\n",
            "The following additional packages will be installed:\n",
            "  libomp-14-dev libomp5-14\n",
            "Suggested packages:\n",
            "  libomp-14-doc\n",
            "The following NEW packages will be installed:\n",
            "  libomp-14-dev libomp-dev libomp5-14\n",
            "0 upgraded, 3 newly installed, 0 to remove and 45 not upgraded.\n",
            "Need to get 738 kB of archives.\n",
            "After this operation, 8,991 kB of additional disk space will be used.\n",
            "Get:1 http://archive.ubuntu.com/ubuntu jammy-updates/universe amd64 libomp5-14 amd64 1:14.0.0-1ubuntu1.1 [389 kB]\n",
            "Get:2 http://archive.ubuntu.com/ubuntu jammy-updates/universe amd64 libomp-14-dev amd64 1:14.0.0-1ubuntu1.1 [347 kB]\n",
            "Get:3 http://archive.ubuntu.com/ubuntu jammy/universe amd64 libomp-dev amd64 1:14.0-55~exp2 [3,074 B]\n",
            "Fetched 738 kB in 1s (1,025 kB/s)\n",
            "Selecting previously unselected package libomp5-14:amd64.\n",
            "(Reading database ... 121918 files and directories currently installed.)\n",
            "Preparing to unpack .../libomp5-14_1%3a14.0.0-1ubuntu1.1_amd64.deb ...\n",
            "Unpacking libomp5-14:amd64 (1:14.0.0-1ubuntu1.1) ...\n",
            "Selecting previously unselected package libomp-14-dev.\n",
            "Preparing to unpack .../libomp-14-dev_1%3a14.0.0-1ubuntu1.1_amd64.deb ...\n",
            "Unpacking libomp-14-dev (1:14.0.0-1ubuntu1.1) ...\n",
            "Selecting previously unselected package libomp-dev:amd64.\n",
            "Preparing to unpack .../libomp-dev_1%3a14.0-55~exp2_amd64.deb ...\n",
            "Unpacking libomp-dev:amd64 (1:14.0-55~exp2) ...\n",
            "Setting up libomp5-14:amd64 (1:14.0.0-1ubuntu1.1) ...\n",
            "Setting up libomp-14-dev (1:14.0.0-1ubuntu1.1) ...\n",
            "Setting up libomp-dev:amd64 (1:14.0-55~exp2) ...\n",
            "Processing triggers for libc-bin (2.35-0ubuntu3.4) ...\n",
            "/sbin/ldconfig.real: /usr/local/lib/libtbbbind_2_0.so.3 is not a symbolic link\n",
            "\n",
            "/sbin/ldconfig.real: /usr/local/lib/libtbbbind_2_5.so.3 is not a symbolic link\n",
            "\n",
            "/sbin/ldconfig.real: /usr/local/lib/libtbbmalloc.so.2 is not a symbolic link\n",
            "\n",
            "/sbin/ldconfig.real: /usr/local/lib/libtbbmalloc_proxy.so.2 is not a symbolic link\n",
            "\n",
            "/sbin/ldconfig.real: /usr/local/lib/libtbbbind.so.3 is not a symbolic link\n",
            "\n",
            "/sbin/ldconfig.real: /usr/local/lib/libtbb.so.12 is not a symbolic link\n",
            "\n"
          ]
        }
      ],
      "source": [
        "!apt-get install -y libomp-dev"
      ]
    },
    {
      "cell_type": "code",
      "source": [
        "from google.colab import files\n",
        "import os\n",
        "\n",
        "# Upload the file\n",
        "uploaded = files.upload()\n",
        "\n",
        "# Define the destination directory and file name\n",
        "destination_directory = '/content/data'\n",
        "file_name = 'fem_code.zip'  # Change this to your desired file name\n",
        "\n",
        "# Move the uploaded file to the destination directory with the desired file name\n"
      ],
      "metadata": {
        "colab": {
          "base_uri": "https://localhost:8080/",
          "height": 90
        },
        "id": "y3VQ6CCcbu9n",
        "outputId": "4e936773-edfb-4c7f-cccc-29e2989a559e"
      },
      "execution_count": 2,
      "outputs": [
        {
          "output_type": "display_data",
          "data": {
            "text/plain": [
              "<IPython.core.display.HTML object>"
            ],
            "text/html": [
              "\n",
              "     <input type=\"file\" id=\"files-ad1b02ad-183a-4bb8-99ca-a34c7fb7df82\" name=\"files[]\" multiple disabled\n",
              "        style=\"border:none\" />\n",
              "     <output id=\"result-ad1b02ad-183a-4bb8-99ca-a34c7fb7df82\">\n",
              "      Upload widget is only available when the cell has been executed in the\n",
              "      current browser session. Please rerun this cell to enable.\n",
              "      </output>\n",
              "      <script>// Copyright 2017 Google LLC\n",
              "//\n",
              "// Licensed under the Apache License, Version 2.0 (the \"License\");\n",
              "// you may not use this file except in compliance with the License.\n",
              "// You may obtain a copy of the License at\n",
              "//\n",
              "//      http://www.apache.org/licenses/LICENSE-2.0\n",
              "//\n",
              "// Unless required by applicable law or agreed to in writing, software\n",
              "// distributed under the License is distributed on an \"AS IS\" BASIS,\n",
              "// WITHOUT WARRANTIES OR CONDITIONS OF ANY KIND, either express or implied.\n",
              "// See the License for the specific language governing permissions and\n",
              "// limitations under the License.\n",
              "\n",
              "/**\n",
              " * @fileoverview Helpers for google.colab Python module.\n",
              " */\n",
              "(function(scope) {\n",
              "function span(text, styleAttributes = {}) {\n",
              "  const element = document.createElement('span');\n",
              "  element.textContent = text;\n",
              "  for (const key of Object.keys(styleAttributes)) {\n",
              "    element.style[key] = styleAttributes[key];\n",
              "  }\n",
              "  return element;\n",
              "}\n",
              "\n",
              "// Max number of bytes which will be uploaded at a time.\n",
              "const MAX_PAYLOAD_SIZE = 100 * 1024;\n",
              "\n",
              "function _uploadFiles(inputId, outputId) {\n",
              "  const steps = uploadFilesStep(inputId, outputId);\n",
              "  const outputElement = document.getElementById(outputId);\n",
              "  // Cache steps on the outputElement to make it available for the next call\n",
              "  // to uploadFilesContinue from Python.\n",
              "  outputElement.steps = steps;\n",
              "\n",
              "  return _uploadFilesContinue(outputId);\n",
              "}\n",
              "\n",
              "// This is roughly an async generator (not supported in the browser yet),\n",
              "// where there are multiple asynchronous steps and the Python side is going\n",
              "// to poll for completion of each step.\n",
              "// This uses a Promise to block the python side on completion of each step,\n",
              "// then passes the result of the previous step as the input to the next step.\n",
              "function _uploadFilesContinue(outputId) {\n",
              "  const outputElement = document.getElementById(outputId);\n",
              "  const steps = outputElement.steps;\n",
              "\n",
              "  const next = steps.next(outputElement.lastPromiseValue);\n",
              "  return Promise.resolve(next.value.promise).then((value) => {\n",
              "    // Cache the last promise value to make it available to the next\n",
              "    // step of the generator.\n",
              "    outputElement.lastPromiseValue = value;\n",
              "    return next.value.response;\n",
              "  });\n",
              "}\n",
              "\n",
              "/**\n",
              " * Generator function which is called between each async step of the upload\n",
              " * process.\n",
              " * @param {string} inputId Element ID of the input file picker element.\n",
              " * @param {string} outputId Element ID of the output display.\n",
              " * @return {!Iterable<!Object>} Iterable of next steps.\n",
              " */\n",
              "function* uploadFilesStep(inputId, outputId) {\n",
              "  const inputElement = document.getElementById(inputId);\n",
              "  inputElement.disabled = false;\n",
              "\n",
              "  const outputElement = document.getElementById(outputId);\n",
              "  outputElement.innerHTML = '';\n",
              "\n",
              "  const pickedPromise = new Promise((resolve) => {\n",
              "    inputElement.addEventListener('change', (e) => {\n",
              "      resolve(e.target.files);\n",
              "    });\n",
              "  });\n",
              "\n",
              "  const cancel = document.createElement('button');\n",
              "  inputElement.parentElement.appendChild(cancel);\n",
              "  cancel.textContent = 'Cancel upload';\n",
              "  const cancelPromise = new Promise((resolve) => {\n",
              "    cancel.onclick = () => {\n",
              "      resolve(null);\n",
              "    };\n",
              "  });\n",
              "\n",
              "  // Wait for the user to pick the files.\n",
              "  const files = yield {\n",
              "    promise: Promise.race([pickedPromise, cancelPromise]),\n",
              "    response: {\n",
              "      action: 'starting',\n",
              "    }\n",
              "  };\n",
              "\n",
              "  cancel.remove();\n",
              "\n",
              "  // Disable the input element since further picks are not allowed.\n",
              "  inputElement.disabled = true;\n",
              "\n",
              "  if (!files) {\n",
              "    return {\n",
              "      response: {\n",
              "        action: 'complete',\n",
              "      }\n",
              "    };\n",
              "  }\n",
              "\n",
              "  for (const file of files) {\n",
              "    const li = document.createElement('li');\n",
              "    li.append(span(file.name, {fontWeight: 'bold'}));\n",
              "    li.append(span(\n",
              "        `(${file.type || 'n/a'}) - ${file.size} bytes, ` +\n",
              "        `last modified: ${\n",
              "            file.lastModifiedDate ? file.lastModifiedDate.toLocaleDateString() :\n",
              "                                    'n/a'} - `));\n",
              "    const percent = span('0% done');\n",
              "    li.appendChild(percent);\n",
              "\n",
              "    outputElement.appendChild(li);\n",
              "\n",
              "    const fileDataPromise = new Promise((resolve) => {\n",
              "      const reader = new FileReader();\n",
              "      reader.onload = (e) => {\n",
              "        resolve(e.target.result);\n",
              "      };\n",
              "      reader.readAsArrayBuffer(file);\n",
              "    });\n",
              "    // Wait for the data to be ready.\n",
              "    let fileData = yield {\n",
              "      promise: fileDataPromise,\n",
              "      response: {\n",
              "        action: 'continue',\n",
              "      }\n",
              "    };\n",
              "\n",
              "    // Use a chunked sending to avoid message size limits. See b/62115660.\n",
              "    let position = 0;\n",
              "    do {\n",
              "      const length = Math.min(fileData.byteLength - position, MAX_PAYLOAD_SIZE);\n",
              "      const chunk = new Uint8Array(fileData, position, length);\n",
              "      position += length;\n",
              "\n",
              "      const base64 = btoa(String.fromCharCode.apply(null, chunk));\n",
              "      yield {\n",
              "        response: {\n",
              "          action: 'append',\n",
              "          file: file.name,\n",
              "          data: base64,\n",
              "        },\n",
              "      };\n",
              "\n",
              "      let percentDone = fileData.byteLength === 0 ?\n",
              "          100 :\n",
              "          Math.round((position / fileData.byteLength) * 100);\n",
              "      percent.textContent = `${percentDone}% done`;\n",
              "\n",
              "    } while (position < fileData.byteLength);\n",
              "  }\n",
              "\n",
              "  // All done.\n",
              "  yield {\n",
              "    response: {\n",
              "      action: 'complete',\n",
              "    }\n",
              "  };\n",
              "}\n",
              "\n",
              "scope.google = scope.google || {};\n",
              "scope.google.colab = scope.google.colab || {};\n",
              "scope.google.colab._files = {\n",
              "  _uploadFiles,\n",
              "  _uploadFilesContinue,\n",
              "};\n",
              "})(self);\n",
              "</script> "
            ]
          },
          "metadata": {}
        },
        {
          "output_type": "stream",
          "name": "stdout",
          "text": [
            "Saving femcode(DL_executed).zip to femcode(DL_executed).zip\n"
          ]
        }
      ]
    },
    {
      "cell_type": "code",
      "source": [
        "os.makedirs('/content/data/prop', exist_ok=True)"
      ],
      "metadata": {
        "id": "hZsXiHG9cpfx"
      },
      "execution_count": 11,
      "outputs": []
    },
    {
      "cell_type": "code",
      "source": [
        "target_directory = '/content/'\n",
        "!unzip -q {/content/femcode(DL_executed).zip} -d {target_directory}"
      ],
      "metadata": {
        "id": "FHSYiTO5hers",
        "colab": {
          "base_uri": "https://localhost:8080/"
        },
        "outputId": "57a2407f-ec5f-4893-fab8-eeb283a73654"
      },
      "execution_count": 8,
      "outputs": [
        {
          "output_type": "stream",
          "name": "stdout",
          "text": [
            "unzip:  cannot find or open /content/data/fem_code.zip, /content/data/fem_code.zip.zip or /content/data/fem_code.zip.ZIP.\n"
          ]
        }
      ]
    },
    {
      "cell_type": "code",
      "source": [
        "import subprocess\n",
        "import os\n",
        "import numpy as np\n",
        "import shutil\n",
        "import re"
      ],
      "metadata": {
        "id": "oi2mnunGYk0g"
      },
      "execution_count": 4,
      "outputs": []
    },
    {
      "cell_type": "code",
      "source": [
        "# Source and destination file paths\n",
        "source_path = '/content/femcode(DL_executed)/cont_ver2/prop.dat'\n",
        "# destination_path = 'path/to/destination/file.txt'\n",
        "\n",
        "# Copy the file\n",
        "shutil.copyfile(source_path, os.path.join(target_directory,'prop.dat'))"
      ],
      "metadata": {
        "colab": {
          "base_uri": "https://localhost:8080/",
          "height": 36
        },
        "id": "zCTD8gUgYOub",
        "outputId": "78d52e3b-166e-4a04-8666-265e5eb95b03"
      },
      "execution_count": 9,
      "outputs": [
        {
          "output_type": "execute_result",
          "data": {
            "text/plain": [
              "'/content/prop.dat'"
            ],
            "application/vnd.google.colaboratory.intrinsic+json": {
              "type": "string"
            }
          },
          "metadata": {},
          "execution_count": 9
        }
      ]
    },
    {
      "cell_type": "code",
      "source": [
        "def read_prop_data(filename):\n",
        "    data = []\n",
        "    with open(filename, 'r') as f:\n",
        "        for line in f:\n",
        "            # Split the line by spaces and convert each value to float or int\n",
        "            line_data = [float(value) if '.' in value else int(value) for value in line.strip().split()]\n",
        "            data.append(line_data)\n",
        "    return data\n",
        "\n",
        "def write_prop_data(filename, data):\n",
        "    with open(filename, 'w') as f:\n",
        "        for line in data:\n",
        "            f.write(' '.join([str(val) for val in line]) + '\\n')\n",
        "\n",
        "def read_displacement_file(dis_file_path):\n",
        "    with open(dis_file_path, 'r') as file:\n",
        "        # Initialize an empty list to store the fourth column data\n",
        "        column_4_data = []\n",
        "        # Iterate over each line in the file\n",
        "        for line in file:\n",
        "            # Split the line into columns based on whitespace\n",
        "            columns = line.split()\n",
        "            # Extract the data from the fourth column (index 3, since Python uses zero-based indexing)\n",
        "            fourth_column_data = columns[3]\n",
        "            # Append the fourth column data to the list\n",
        "            column_4_data.append(fourth_column_data)\n",
        "    column_4_floats = [float(x) for x in column_4_data]\n",
        "    displace = np.array(column_4_floats)\n",
        "    return displace\n",
        "\n",
        "def write_displacement_data(filename, data):\n",
        "    with open(filename, 'w') as f:\n",
        "        for line in data:\n",
        "            f.write(str(line) + '\\n')\n",
        "\n",
        "def generate_hole(data_in, existing_holes):\n",
        "    while True:\n",
        "        row_size = np.random.randint(1, 10)  # Size of hole\n",
        "        col_size = np.random.randint(1, 10)\n",
        "        position = np.random.randint(41, 361)  # Position of hole\n",
        "\n",
        "        position_list = []\n",
        "        valid_hole = True\n",
        "\n",
        "        for i in range(col_size):\n",
        "            for j in range(row_size):\n",
        "                pose_index = position + j + i * 20\n",
        "                if pose_index > 381:\n",
        "                    valid_hole = False\n",
        "                    break\n",
        "                position_list.append(pose_index)\n",
        "            if not valid_hole:\n",
        "                break\n",
        "\n",
        "        if not valid_hole:\n",
        "            continue\n",
        "\n",
        "        if all((pos not in existing_holes and\n",
        "                all(abs(pos - existing_hole) > 21 for existing_hole in existing_holes))\n",
        "               for pos in position_list):\n",
        "            for pos in position_list:\n",
        "                data_in[pos] = [1]\n",
        "            existing_holes.update(position_list)\n",
        "            break\n",
        "\n",
        "    return data_in\n",
        "\n",
        "def get_max_index(output_dir, prefix):\n",
        "    max_index = -1\n",
        "    pattern = re.compile(rf\"{prefix}\\s\\((\\d+)\\)\")\n",
        "    for filename in os.listdir(output_dir):\n",
        "        match = pattern.search(filename)\n",
        "        if match:\n",
        "            index = int(match.group(1))\n",
        "            if index > max_index:\n",
        "                max_index = index\n",
        "    return max_index"
      ],
      "metadata": {
        "id": "QZqeaMT6XzUL"
      },
      "execution_count": 6,
      "outputs": []
    },
    {
      "cell_type": "code",
      "source": [
        "# Define the file paths\n",
        "home_directory = os.path.expanduser('~')\n",
        "prop_file_path = '/content/femcode(DL_executed)/cont_ver2/prop.dat'\n",
        "dis_file_path = '/content/femcode(DL_executed)/cont_ver2/displacement'\n",
        "# dis_file_path = '/content/femcode(DL_executed)/cont_ver2/test_disp'\n",
        "main_e_path = '/content/femcode(DL_executed)/cont_ver2/main.e'\n",
        "output_dir = '/content/data/prop'\n",
        "\n",
        "# Check if the file exists\n",
        "if os.path.exists(prop_file_path):\n",
        "    print('File exists.')\n",
        "else:\n",
        "    print('File does not exist.')\n",
        "\n",
        "# Get the maximum existing index\n",
        "max_index = get_max_index(output_dir, 'prop.dat')\n",
        "start_index = max_index + 1\n",
        "\n",
        "# Number of new files to generate\n",
        "n = 100 # Adjust this value as needed\n",
        "\n",
        "for i in range(start_index, start_index + n):\n",
        "\n",
        "    # Source and destination file paths\n",
        "    source_path = os.path.join(os.path.join(target_directory,'prop.dat'))\n",
        "\n",
        "    # Copy the file\n",
        "    shutil.copyfile(source_path, prop_file_path)\n",
        "\n",
        "    # Paths for storing modified data\n",
        "    prop_output_path = os.path.join(output_dir, f'prop.dat ({i})')\n",
        "    dis_output_path = os.path.join(output_dir, f'displacement ({i})')\n",
        "\n",
        "    # Read and modify prop data\n",
        "    data = read_prop_data(prop_file_path)\n",
        "\n",
        "    # Generate two holes with the specified constraints\n",
        "    existing_holes = set()\n",
        "    data = generate_hole(data, existing_holes)\n",
        "    data = generate_hole(data, existing_holes)\n",
        "\n",
        "    write_prop_data(prop_file_path, data)\n",
        "\n",
        "    if not os.path.exists(main_e_path):\n",
        "        raise FileNotFoundError(\"Main.e file not found at:\", main_e_path)\n",
        "\n",
        "# Check if the file is executable\n",
        "    if not os.access(main_e_path, os.X_OK):\n",
        "        raise PermissionError(\"Main.e file is not executable:\", main_e_path)\n",
        "\n",
        "    # Execute the external program\n",
        "    result = subprocess.run([main_e_path], check=True)\n",
        "\n",
        "    if result.returncode != 0:\n",
        "        print(\"Error: subprocess failed\")\n",
        "        print(\"Error:\", result.stderr)\n",
        "    else:\n",
        "        print(\"Subprocess ran successfully\")\n",
        "\n",
        "    # Read modified prop data and displacement results\n",
        "    modified_prop = read_prop_data(prop_file_path)\n",
        "    modified_dis = read_displacement_file(dis_file_path)\n",
        "\n",
        "    # Save the modified prop data and displacement results\n",
        "    write_prop_data(prop_output_path, modified_prop)\n",
        "    write_displacement_data(dis_output_path, modified_dis)\n"
      ],
      "metadata": {
        "colab": {
          "base_uri": "https://localhost:8080/",
          "height": 384
        },
        "id": "jRzQIeFGZGrY",
        "outputId": "d0e869a7-f64e-4138-c86a-e1546be0d633"
      },
      "execution_count": 22,
      "outputs": [
        {
          "output_type": "stream",
          "name": "stdout",
          "text": [
            "File exists.\n"
          ]
        },
        {
          "output_type": "error",
          "ename": "CalledProcessError",
          "evalue": "Command '['/content/femcode(DL_executed)/cont_ver2/main.e']' returned non-zero exit status 29.",
          "traceback": [
            "\u001b[0;31m---------------------------------------------------------------------------\u001b[0m",
            "\u001b[0;31mCalledProcessError\u001b[0m                        Traceback (most recent call last)",
            "\u001b[0;32m<ipython-input-22-6eaf03eb6e05>\u001b[0m in \u001b[0;36m<cell line: 22>\u001b[0;34m()\u001b[0m\n\u001b[1;32m     50\u001b[0m \u001b[0;34m\u001b[0m\u001b[0m\n\u001b[1;32m     51\u001b[0m     \u001b[0;31m# Execute the external program\u001b[0m\u001b[0;34m\u001b[0m\u001b[0;34m\u001b[0m\u001b[0m\n\u001b[0;32m---> 52\u001b[0;31m     \u001b[0mresult\u001b[0m \u001b[0;34m=\u001b[0m \u001b[0msubprocess\u001b[0m\u001b[0;34m.\u001b[0m\u001b[0mrun\u001b[0m\u001b[0;34m(\u001b[0m\u001b[0;34m[\u001b[0m\u001b[0mmain_e_path\u001b[0m\u001b[0;34m]\u001b[0m\u001b[0;34m,\u001b[0m \u001b[0mcheck\u001b[0m\u001b[0;34m=\u001b[0m\u001b[0;32mTrue\u001b[0m\u001b[0;34m)\u001b[0m\u001b[0;34m\u001b[0m\u001b[0;34m\u001b[0m\u001b[0m\n\u001b[0m\u001b[1;32m     53\u001b[0m \u001b[0;34m\u001b[0m\u001b[0m\n\u001b[1;32m     54\u001b[0m     \u001b[0;32mif\u001b[0m \u001b[0mresult\u001b[0m\u001b[0;34m.\u001b[0m\u001b[0mreturncode\u001b[0m \u001b[0;34m!=\u001b[0m \u001b[0;36m0\u001b[0m\u001b[0;34m:\u001b[0m\u001b[0;34m\u001b[0m\u001b[0;34m\u001b[0m\u001b[0m\n",
            "\u001b[0;32m/usr/lib/python3.10/subprocess.py\u001b[0m in \u001b[0;36mrun\u001b[0;34m(input, capture_output, timeout, check, *popenargs, **kwargs)\u001b[0m\n\u001b[1;32m    524\u001b[0m         \u001b[0mretcode\u001b[0m \u001b[0;34m=\u001b[0m \u001b[0mprocess\u001b[0m\u001b[0;34m.\u001b[0m\u001b[0mpoll\u001b[0m\u001b[0;34m(\u001b[0m\u001b[0;34m)\u001b[0m\u001b[0;34m\u001b[0m\u001b[0;34m\u001b[0m\u001b[0m\n\u001b[1;32m    525\u001b[0m         \u001b[0;32mif\u001b[0m \u001b[0mcheck\u001b[0m \u001b[0;32mand\u001b[0m \u001b[0mretcode\u001b[0m\u001b[0;34m:\u001b[0m\u001b[0;34m\u001b[0m\u001b[0;34m\u001b[0m\u001b[0m\n\u001b[0;32m--> 526\u001b[0;31m             raise CalledProcessError(retcode, process.args,\n\u001b[0m\u001b[1;32m    527\u001b[0m                                      output=stdout, stderr=stderr)\n\u001b[1;32m    528\u001b[0m     \u001b[0;32mreturn\u001b[0m \u001b[0mCompletedProcess\u001b[0m\u001b[0;34m(\u001b[0m\u001b[0mprocess\u001b[0m\u001b[0;34m.\u001b[0m\u001b[0margs\u001b[0m\u001b[0;34m,\u001b[0m \u001b[0mretcode\u001b[0m\u001b[0;34m,\u001b[0m \u001b[0mstdout\u001b[0m\u001b[0;34m,\u001b[0m \u001b[0mstderr\u001b[0m\u001b[0;34m)\u001b[0m\u001b[0;34m\u001b[0m\u001b[0;34m\u001b[0m\u001b[0m\n",
            "\u001b[0;31mCalledProcessError\u001b[0m: Command '['/content/femcode(DL_executed)/cont_ver2/main.e']' returned non-zero exit status 29."
          ]
        }
      ]
    },
    {
      "cell_type": "code",
      "source": [
        "import shutil\n",
        "shutil.rmtree('/content/data/prop')\n",
        "os.makedirs('/content/data/prop', exist_ok=True)"
      ],
      "metadata": {
        "id": "mif4jaduboT6"
      },
      "execution_count": 13,
      "outputs": []
    },
    {
      "cell_type": "code",
      "source": [],
      "metadata": {
        "id": "xCrSSeQ2cy1S"
      },
      "execution_count": null,
      "outputs": []
    },
    {
      "cell_type": "code",
      "execution_count": 17,
      "metadata": {
        "id": "eV_nYOCBTsvY"
      },
      "outputs": [],
      "source": [
        "# Define a function to extract data\n",
        "def read_data(filename):\n",
        "\n",
        "    data = []\n",
        "    with open(filename, 'r') as f:\n",
        "        for line in f:\n",
        "\n",
        "            # Split the line by spaces and convert each value to float\n",
        "            line_data = [float(value) for value in line.strip().split()]\n",
        "            data.append(line_data)\n",
        "    return data"
      ]
    },
    {
      "cell_type": "code",
      "source": [
        "import os\n",
        "\n",
        "# Set the directory path\n",
        "directory_path = '/content/data/prop'\n",
        "\n",
        "# List all items in the directory\n",
        "items = os.listdir(directory_path)\n",
        "\n",
        "# Filter out only the files\n",
        "files = [f for f in items if os.path.isfile(os.path.join(directory_path, f))]\n",
        "\n",
        "# Count the number of files\n",
        "number_of_files = len(files)\n",
        "print(f\"Number of files in '{directory_path}': {number_of_files}\")\n"
      ],
      "metadata": {
        "colab": {
          "base_uri": "https://localhost:8080/"
        },
        "id": "y8K_sCUXB8BS",
        "outputId": "e06339d8-cb04-4b2b-bbf6-396e0e0ff965"
      },
      "execution_count": 18,
      "outputs": [
        {
          "output_type": "stream",
          "name": "stdout",
          "text": [
            "Number of files in '/content/data/prop': 200\n"
          ]
        }
      ]
    },
    {
      "cell_type": "code",
      "source": [
        "# Displacement data set\n",
        "folder_path = '/content/data/prop'\n",
        "# Input data\n",
        "diplacement_list=[]\n",
        "for i in range(0,number_of_files//2):\n",
        "    file_path = os.path.join(folder_path, f'displacement ({i})')               # Calling file displacement data\n",
        "    data=read_data(file_path)\n",
        "\n",
        "\n",
        "\n",
        "    diplacement_list.append(data)\n",
        "\n",
        "displacement_array = np.array(diplacement_list)\n",
        "displacement_array=displacement_array.reshape(displacement_array.shape[0],displacement_array.shape[1])\n",
        "print(displacement_array.shape)"
      ],
      "metadata": {
        "colab": {
          "base_uri": "https://localhost:8080/"
        },
        "id": "iZOoT9USX9IX",
        "outputId": "53d5accb-6821-4bca-8135-827007e3dc68"
      },
      "execution_count": 19,
      "outputs": [
        {
          "output_type": "stream",
          "name": "stdout",
          "text": [
            "(100, 1681)\n"
          ]
        }
      ]
    },
    {
      "cell_type": "code",
      "source": [
        "# Property data set\n",
        "# Labels\n",
        "\n",
        "prop_list=[]\n",
        "\n",
        "for i in range(0,number_of_files//2):\n",
        "    file_path = os.path.join(folder_path, f'prop.dat ({i})')               # Calling file prop.dat data\n",
        "    data=read_data(file_path)\n",
        "\n",
        "\n",
        "\n",
        "    prop_list.append(data[1:401])\n",
        "\n",
        "prop_array=np.array(prop_list)\n",
        "prop_array=prop_array.reshape(prop_array.shape[0],prop_array.shape[1])\n",
        "\n",
        "print(prop_array.shape)"
      ],
      "metadata": {
        "id": "0VIXvm40YKRS",
        "colab": {
          "base_uri": "https://localhost:8080/"
        },
        "outputId": "9107c9a4-5cd7-4670-b74c-3e41078b15ef"
      },
      "execution_count": 20,
      "outputs": [
        {
          "output_type": "stream",
          "name": "stdout",
          "text": [
            "(100, 400)\n"
          ]
        }
      ]
    },
    {
      "cell_type": "code",
      "source": [
        "# Calculate variance for each feature\n",
        "print('variance of the data to under the data')\n",
        "print('Property data :',prop_array.var())\n",
        "print('Displacement data :',displacement_array.var())\n",
        "\n",
        "from sklearn.preprocessing import MinMaxScaler\n",
        "\n",
        "# Create a MinMaxScaler object\n",
        "scaler_prop = MinMaxScaler()\n",
        "scaler_displacement = MinMaxScaler()\n",
        "\n",
        "\n",
        "# Fit the scaler to the data and transform it\n",
        "normalized_prop = scaler_prop.fit_transform(prop_array)\n",
        "normalized_displacement = scaler_prop.fit_transform(displacement_array)\n",
        "\n",
        "# Calculate variance for each feature\n",
        "print('variance of the normalized data to under the data')\n",
        "print('Property data :',normalized_prop.var())\n",
        "print('Displacement data :',normalized_displacement.var())"
      ],
      "metadata": {
        "colab": {
          "base_uri": "https://localhost:8080/"
        },
        "id": "6prsvWwTKFBo",
        "outputId": "df4efee9-0908-4862-b2de-6f0e05bf2cde"
      },
      "execution_count": 21,
      "outputs": [
        {
          "output_type": "stream",
          "name": "stdout",
          "text": [
            "variance of the data to under the data\n",
            "Property data : 4.5320214842455137e+20\n",
            "Displacement data : 2.7140488914229156e-08\n",
            "variance of the normalized data to under the data\n",
            "Property data : 0.18905273437500003\n",
            "Displacement data : 0.0\n"
          ]
        }
      ]
    },
    {
      "cell_type": "code",
      "source": [
        "# Define the folder to be zipped\n",
        "folder_to_zip = '/content/data/prop'\n",
        "\n",
        "# Define the output zip file path (without .zip extension)\n",
        "output_filename = '/content/data_2'\n",
        "\n",
        "# Create a zip archive\n",
        "shutil.make_archive(output_filename, 'zip', folder_to_zip)"
      ],
      "metadata": {
        "colab": {
          "base_uri": "https://localhost:8080/",
          "height": 36
        },
        "id": "al3rpgtoaSgh",
        "outputId": "dbf988e2-cd20-4e26-cb7c-9ed5c2da33f6"
      },
      "execution_count": 11,
      "outputs": [
        {
          "output_type": "execute_result",
          "data": {
            "text/plain": [
              "'/content/data_2.zip'"
            ],
            "application/vnd.google.colaboratory.intrinsic+json": {
              "type": "string"
            }
          },
          "metadata": {},
          "execution_count": 11
        }
      ]
    },
    {
      "cell_type": "code",
      "source": [],
      "metadata": {
        "id": "RS4QoV8UbKR-"
      },
      "execution_count": null,
      "outputs": []
    }
  ]
}